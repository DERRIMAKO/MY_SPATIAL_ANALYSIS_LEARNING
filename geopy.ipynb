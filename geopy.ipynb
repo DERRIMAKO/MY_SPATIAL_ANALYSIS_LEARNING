{
 "cells": [
  {
   "cell_type": "markdown",
   "id": "50d0f419-2ff4-4c55-8d6b-2f0b08cb87ff",
   "metadata": {},
   "source": [
    "# GEOCODING"
   ]
  },
  {
   "cell_type": "code",
   "execution_count": 16,
   "id": "63e2f38a-ad21-4d78-8c6d-53966c900bff",
   "metadata": {},
   "outputs": [],
   "source": [
    "from geopy.geocoders import Nominatim\n",
    "\n",
    "geolocator = Nominatim(user_agent = 'makori')\n",
    "location = geolocator.geocode('stella awinja')"
   ]
  },
  {
   "cell_type": "code",
   "execution_count": 17,
   "id": "db3d1645-f1d9-4b95-bddb-dc151de57bb9",
   "metadata": {},
   "outputs": [
    {
     "name": "stdout",
     "output_type": "stream",
     "text": [
      "Stella Awinja Hostel, Mamlaka Road, Kilimani location, Kilimani ward, Kilimani division, Westlands, Nairobi, 00400, Kenya\n"
     ]
    }
   ],
   "source": [
    "print(location.address)"
   ]
  },
  {
   "cell_type": "code",
   "execution_count": 18,
   "id": "acec83bd-3371-4a63-b169-a712592b5639",
   "metadata": {},
   "outputs": [
    {
     "name": "stdout",
     "output_type": "stream",
     "text": [
      "-1.2857794999999999 36.812789969488094\n"
     ]
    }
   ],
   "source": [
    "print(location.latitude, location.longitude)"
   ]
  },
  {
   "cell_type": "markdown",
   "id": "82286d38-8681-4ddd-b0ba-36e594c720f7",
   "metadata": {},
   "source": [
    "# CALCULATION DISTANCE - given the coordinates"
   ]
  },
  {
   "cell_type": "code",
   "execution_count": 19,
   "id": "0f08aecb-bffe-4555-b1bd-d293adf9fee8",
   "metadata": {},
   "outputs": [],
   "source": [
    "san_francisco = (37.7749, -122.4194)\n",
    "new_york = (40.661, -73.944)"
   ]
  },
  {
   "cell_type": "code",
   "execution_count": 20,
   "id": "dd9d8d6f-e48c-4cf6-9419-ff9dc05721c5",
   "metadata": {},
   "outputs": [],
   "source": [
    "from geopy import distance"
   ]
  },
  {
   "cell_type": "code",
   "execution_count": 22,
   "id": "49222965-b04e-4cb7-9f7a-b8e31b28ad46",
   "metadata": {},
   "outputs": [],
   "source": [
    "straight_line_distance = distance.great_circle(san_francisco, new_york)"
   ]
  },
  {
   "cell_type": "code",
   "execution_count": 23,
   "id": "1d3205a6-0129-4f99-b26d-2c63799791f7",
   "metadata": {},
   "outputs": [],
   "source": [
    "ellipsoid_distance = distance.geodesic(san_francisco, new_york)"
   ]
  },
  {
   "cell_type": "code",
   "execution_count": 25,
   "id": "931c4d76-8665-4e9e-bc27-d90463409b25",
   "metadata": {},
   "outputs": [
    {
     "name": "stdout",
     "output_type": "stream",
     "text": [
      "4135.3804590061345 km\n"
     ]
    }
   ],
   "source": [
    "print(straight_line_distance)"
   ]
  },
  {
   "cell_type": "code",
   "execution_count": 26,
   "id": "cd35665e-69aa-4a50-bc7f-e5b6cc35b437",
   "metadata": {},
   "outputs": [
    {
     "name": "stdout",
     "output_type": "stream",
     "text": [
      "4145.446977549561 km\n"
     ]
    }
   ],
   "source": [
    "print(ellipsoid_distance)"
   ]
  },
  {
   "cell_type": "code",
   "execution_count": null,
   "id": "e66ac56e-c9e7-4256-a7cc-68e87b4f8ba9",
   "metadata": {},
   "outputs": [],
   "source": []
  }
 ],
 "metadata": {
  "kernelspec": {
   "display_name": "Python 3 (ipykernel)",
   "language": "python",
   "name": "python3"
  },
  "language_info": {
   "codemirror_mode": {
    "name": "ipython",
    "version": 3
   },
   "file_extension": ".py",
   "mimetype": "text/x-python",
   "name": "python",
   "nbconvert_exporter": "python",
   "pygments_lexer": "ipython3",
   "version": "3.12.2"
  }
 },
 "nbformat": 4,
 "nbformat_minor": 5
}
