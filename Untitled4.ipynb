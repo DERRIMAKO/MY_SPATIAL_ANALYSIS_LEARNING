{
 "cells": [
  {
   "cell_type": "code",
   "execution_count": 1,
   "id": "6c5950ec-f178-4801-bcac-0370e7874ec3",
   "metadata": {},
   "outputs": [],
   "source": [
    "import geopandas as gpd\n",
    "import geodatasets"
   ]
  },
  {
   "cell_type": "code",
   "execution_count": 9,
   "id": "6535d5b0-62d7-453d-9e3f-2ccbd71410c7",
   "metadata": {},
   "outputs": [],
   "source": [
    "chicago = gpd.read_file(geodatasets.get_path(\"geoda.chicago_commpop\"))\n",
    "groceries = gpd.read_file(geodatasets.get_path(\"geoda.groceries\"))"
   ]
  },
  {
   "cell_type": "code",
   "execution_count": 10,
   "id": "ed8e1add-6ca2-40f8-ae09-4d954fff43b1",
   "metadata": {},
   "outputs": [
    {
     "data": {
      "text/html": [
       "<div>\n",
       "<style scoped>\n",
       "    .dataframe tbody tr th:only-of-type {\n",
       "        vertical-align: middle;\n",
       "    }\n",
       "\n",
       "    .dataframe tbody tr th {\n",
       "        vertical-align: top;\n",
       "    }\n",
       "\n",
       "    .dataframe thead th {\n",
       "        text-align: right;\n",
       "    }\n",
       "</style>\n",
       "<table border=\"1\" class=\"dataframe\">\n",
       "  <thead>\n",
       "    <tr style=\"text-align: right;\">\n",
       "      <th></th>\n",
       "      <th>community</th>\n",
       "      <th>NID</th>\n",
       "      <th>POP2010</th>\n",
       "      <th>POP2000</th>\n",
       "      <th>POPCH</th>\n",
       "      <th>POPPERCH</th>\n",
       "      <th>popplus</th>\n",
       "      <th>popneg</th>\n",
       "      <th>geometry</th>\n",
       "    </tr>\n",
       "  </thead>\n",
       "  <tbody>\n",
       "    <tr>\n",
       "      <th>0</th>\n",
       "      <td>DOUGLAS</td>\n",
       "      <td>35</td>\n",
       "      <td>18238</td>\n",
       "      <td>26470</td>\n",
       "      <td>-8232</td>\n",
       "      <td>-31.099358</td>\n",
       "      <td>0</td>\n",
       "      <td>1</td>\n",
       "      <td>MULTIPOLYGON (((-87.60914 41.84469, -87.60915 ...</td>\n",
       "    </tr>\n",
       "    <tr>\n",
       "      <th>1</th>\n",
       "      <td>OAKLAND</td>\n",
       "      <td>36</td>\n",
       "      <td>5918</td>\n",
       "      <td>6110</td>\n",
       "      <td>-192</td>\n",
       "      <td>-3.142390</td>\n",
       "      <td>0</td>\n",
       "      <td>1</td>\n",
       "      <td>MULTIPOLYGON (((-87.59215 41.81693, -87.59231 ...</td>\n",
       "    </tr>\n",
       "    <tr>\n",
       "      <th>2</th>\n",
       "      <td>FULLER PARK</td>\n",
       "      <td>37</td>\n",
       "      <td>2876</td>\n",
       "      <td>3420</td>\n",
       "      <td>-544</td>\n",
       "      <td>-15.906433</td>\n",
       "      <td>0</td>\n",
       "      <td>1</td>\n",
       "      <td>MULTIPOLYGON (((-87.62880 41.80189, -87.62879 ...</td>\n",
       "    </tr>\n",
       "    <tr>\n",
       "      <th>3</th>\n",
       "      <td>GRAND BOULEVARD</td>\n",
       "      <td>38</td>\n",
       "      <td>21929</td>\n",
       "      <td>28006</td>\n",
       "      <td>-6077</td>\n",
       "      <td>-21.698922</td>\n",
       "      <td>0</td>\n",
       "      <td>1</td>\n",
       "      <td>MULTIPOLYGON (((-87.60671 41.81681, -87.60670 ...</td>\n",
       "    </tr>\n",
       "    <tr>\n",
       "      <th>4</th>\n",
       "      <td>KENWOOD</td>\n",
       "      <td>39</td>\n",
       "      <td>17841</td>\n",
       "      <td>18363</td>\n",
       "      <td>-522</td>\n",
       "      <td>-2.842673</td>\n",
       "      <td>0</td>\n",
       "      <td>1</td>\n",
       "      <td>MULTIPOLYGON (((-87.59215 41.81693, -87.59215 ...</td>\n",
       "    </tr>\n",
       "  </tbody>\n",
       "</table>\n",
       "</div>"
      ],
      "text/plain": [
       "         community  NID  POP2010  POP2000  POPCH   POPPERCH  popplus  popneg  \\\n",
       "0          DOUGLAS   35    18238    26470  -8232 -31.099358        0       1   \n",
       "1          OAKLAND   36     5918     6110   -192  -3.142390        0       1   \n",
       "2      FULLER PARK   37     2876     3420   -544 -15.906433        0       1   \n",
       "3  GRAND BOULEVARD   38    21929    28006  -6077 -21.698922        0       1   \n",
       "4          KENWOOD   39    17841    18363   -522  -2.842673        0       1   \n",
       "\n",
       "                                            geometry  \n",
       "0  MULTIPOLYGON (((-87.60914 41.84469, -87.60915 ...  \n",
       "1  MULTIPOLYGON (((-87.59215 41.81693, -87.59231 ...  \n",
       "2  MULTIPOLYGON (((-87.62880 41.80189, -87.62879 ...  \n",
       "3  MULTIPOLYGON (((-87.60671 41.81681, -87.60670 ...  \n",
       "4  MULTIPOLYGON (((-87.59215 41.81693, -87.59215 ...  "
      ]
     },
     "execution_count": 10,
     "metadata": {},
     "output_type": "execute_result"
    }
   ],
   "source": [
    "chicago.head()"
   ]
  },
  {
   "cell_type": "markdown",
   "id": "021290c8-bd8b-4772-8744-816540960d76",
   "metadata": {},
   "source": [
    "## For Attribute Join:"
   ]
  },
  {
   "cell_type": "code",
   "execution_count": 11,
   "id": "7552fd71-32ab-47a6-9d75-e06c7aea97d7",
   "metadata": {},
   "outputs": [],
   "source": [
    "chicago_shapes = chicago[['NID', 'geometry']]\n",
    "chicago_names = chicago[['community', 'NID']]"
   ]
  },
  {
   "cell_type": "markdown",
   "id": "2c03a4e4-9cd0-4f9f-9265-93de0bf538f0",
   "metadata": {},
   "source": [
    "## For Spatial Join:"
   ]
  },
  {
   "cell_type": "code",
   "execution_count": 18,
   "id": "cea8bb58-ebb9-4bda-b43c-231bc182bc5f",
   "metadata": {},
   "outputs": [],
   "source": [
    "new_chicago = chicago[['community', 'geometry']].to_crs(groceries.crs)"
   ]
  },
  {
   "cell_type": "markdown",
   "id": "ab011784-f986-4b7f-a716-9717c10bcc93",
   "metadata": {},
   "source": [
    "#"
   ]
  },
  {
   "cell_type": "markdown",
   "id": "42c8e28f-1eb7-4efc-a2af-efe26a7990fc",
   "metadata": {},
   "source": [
    "#"
   ]
  },
  {
   "cell_type": "markdown",
   "id": "5ef22945-ef4f-460e-ba3f-e47d49380239",
   "metadata": {},
   "source": [
    "## Performing the actual Attribute Join:"
   ]
  },
  {
   "cell_type": "code",
   "execution_count": 16,
   "id": "05dee3e0-4a18-496b-bfde-0f496b1b2bfe",
   "metadata": {},
   "outputs": [],
   "source": [
    "chicago_merged = chicago_shapes.merge(chicago_names, on = 'NID')"
   ]
  },
  {
   "cell_type": "code",
   "execution_count": 17,
   "id": "0e9451d3-7a59-4357-8810-cbfaaa1eeeb8",
   "metadata": {},
   "outputs": [
    {
     "data": {
      "text/html": [
       "<div>\n",
       "<style scoped>\n",
       "    .dataframe tbody tr th:only-of-type {\n",
       "        vertical-align: middle;\n",
       "    }\n",
       "\n",
       "    .dataframe tbody tr th {\n",
       "        vertical-align: top;\n",
       "    }\n",
       "\n",
       "    .dataframe thead th {\n",
       "        text-align: right;\n",
       "    }\n",
       "</style>\n",
       "<table border=\"1\" class=\"dataframe\">\n",
       "  <thead>\n",
       "    <tr style=\"text-align: right;\">\n",
       "      <th></th>\n",
       "      <th>NID</th>\n",
       "      <th>geometry</th>\n",
       "      <th>community</th>\n",
       "    </tr>\n",
       "  </thead>\n",
       "  <tbody>\n",
       "    <tr>\n",
       "      <th>0</th>\n",
       "      <td>35</td>\n",
       "      <td>MULTIPOLYGON (((-87.60914 41.84469, -87.60915 ...</td>\n",
       "      <td>DOUGLAS</td>\n",
       "    </tr>\n",
       "    <tr>\n",
       "      <th>1</th>\n",
       "      <td>36</td>\n",
       "      <td>MULTIPOLYGON (((-87.59215 41.81693, -87.59231 ...</td>\n",
       "      <td>OAKLAND</td>\n",
       "    </tr>\n",
       "    <tr>\n",
       "      <th>2</th>\n",
       "      <td>37</td>\n",
       "      <td>MULTIPOLYGON (((-87.62880 41.80189, -87.62879 ...</td>\n",
       "      <td>FULLER PARK</td>\n",
       "    </tr>\n",
       "    <tr>\n",
       "      <th>3</th>\n",
       "      <td>38</td>\n",
       "      <td>MULTIPOLYGON (((-87.60671 41.81681, -87.60670 ...</td>\n",
       "      <td>GRAND BOULEVARD</td>\n",
       "    </tr>\n",
       "    <tr>\n",
       "      <th>4</th>\n",
       "      <td>39</td>\n",
       "      <td>MULTIPOLYGON (((-87.59215 41.81693, -87.59215 ...</td>\n",
       "      <td>KENWOOD</td>\n",
       "    </tr>\n",
       "  </tbody>\n",
       "</table>\n",
       "</div>"
      ],
      "text/plain": [
       "   NID                                           geometry        community\n",
       "0   35  MULTIPOLYGON (((-87.60914 41.84469, -87.60915 ...          DOUGLAS\n",
       "1   36  MULTIPOLYGON (((-87.59215 41.81693, -87.59231 ...          OAKLAND\n",
       "2   37  MULTIPOLYGON (((-87.62880 41.80189, -87.62879 ...      FULLER PARK\n",
       "3   38  MULTIPOLYGON (((-87.60671 41.81681, -87.60670 ...  GRAND BOULEVARD\n",
       "4   39  MULTIPOLYGON (((-87.59215 41.81693, -87.59215 ...          KENWOOD"
      ]
     },
     "execution_count": 17,
     "metadata": {},
     "output_type": "execute_result"
    }
   ],
   "source": [
    "chicago_merged.head()"
   ]
  },
  {
   "cell_type": "markdown",
   "id": "c8d55632-5b5d-4ec7-84ec-16015f355a52",
   "metadata": {},
   "source": [
    "## Performing a Spatial Join:\n",
    "### In a spatial join, two geometry objects are merged based on their spatial relationship to one another.\n",
    "#### The two geometry objects are: \n",
    "1. new_chicago\n",
    "2. groceries"
   ]
  },
  {
   "cell_type": "code",
   "execution_count": 19,
   "id": "95d40c52-8f04-4fb7-835c-c03c3dfb7e36",
   "metadata": {},
   "outputs": [
    {
     "data": {
      "text/html": [
       "<div>\n",
       "<style scoped>\n",
       "    .dataframe tbody tr th:only-of-type {\n",
       "        vertical-align: middle;\n",
       "    }\n",
       "\n",
       "    .dataframe tbody tr th {\n",
       "        vertical-align: top;\n",
       "    }\n",
       "\n",
       "    .dataframe thead th {\n",
       "        text-align: right;\n",
       "    }\n",
       "</style>\n",
       "<table border=\"1\" class=\"dataframe\">\n",
       "  <thead>\n",
       "    <tr style=\"text-align: right;\">\n",
       "      <th></th>\n",
       "      <th>community</th>\n",
       "      <th>geometry</th>\n",
       "    </tr>\n",
       "  </thead>\n",
       "  <tbody>\n",
       "    <tr>\n",
       "      <th>0</th>\n",
       "      <td>DOUGLAS</td>\n",
       "      <td>MULTIPOLYGON (((1181573.250 1886828.039, 11815...</td>\n",
       "    </tr>\n",
       "    <tr>\n",
       "      <th>1</th>\n",
       "      <td>OAKLAND</td>\n",
       "      <td>MULTIPOLYGON (((1186289.356 1876750.733, 11862...</td>\n",
       "    </tr>\n",
       "    <tr>\n",
       "      <th>2</th>\n",
       "      <td>FULLER PARK</td>\n",
       "      <td>MULTIPOLYGON (((1176344.998 1871187.546, 11763...</td>\n",
       "    </tr>\n",
       "    <tr>\n",
       "      <th>3</th>\n",
       "      <td>GRAND BOULEVARD</td>\n",
       "      <td>MULTIPOLYGON (((1182322.043 1876674.730, 11823...</td>\n",
       "    </tr>\n",
       "    <tr>\n",
       "      <th>4</th>\n",
       "      <td>KENWOOD</td>\n",
       "      <td>MULTIPOLYGON (((1186289.356 1876750.733, 11862...</td>\n",
       "    </tr>\n",
       "  </tbody>\n",
       "</table>\n",
       "</div>"
      ],
      "text/plain": [
       "         community                                           geometry\n",
       "0          DOUGLAS  MULTIPOLYGON (((1181573.250 1886828.039, 11815...\n",
       "1          OAKLAND  MULTIPOLYGON (((1186289.356 1876750.733, 11862...\n",
       "2      FULLER PARK  MULTIPOLYGON (((1176344.998 1871187.546, 11763...\n",
       "3  GRAND BOULEVARD  MULTIPOLYGON (((1182322.043 1876674.730, 11823...\n",
       "4          KENWOOD  MULTIPOLYGON (((1186289.356 1876750.733, 11862..."
      ]
     },
     "execution_count": 19,
     "metadata": {},
     "output_type": "execute_result"
    }
   ],
   "source": [
    "new_chicago.head()"
   ]
  },
  {
   "cell_type": "code",
   "execution_count": 20,
   "id": "53292fde-7154-47cd-83fe-e871ffb80bcb",
   "metadata": {},
   "outputs": [
    {
     "data": {
      "text/html": [
       "<div>\n",
       "<style scoped>\n",
       "    .dataframe tbody tr th:only-of-type {\n",
       "        vertical-align: middle;\n",
       "    }\n",
       "\n",
       "    .dataframe tbody tr th {\n",
       "        vertical-align: top;\n",
       "    }\n",
       "\n",
       "    .dataframe thead th {\n",
       "        text-align: right;\n",
       "    }\n",
       "</style>\n",
       "<table border=\"1\" class=\"dataframe\">\n",
       "  <thead>\n",
       "    <tr style=\"text-align: right;\">\n",
       "      <th></th>\n",
       "      <th>OBJECTID</th>\n",
       "      <th>Ycoord</th>\n",
       "      <th>Xcoord</th>\n",
       "      <th>Status</th>\n",
       "      <th>Address</th>\n",
       "      <th>Chain</th>\n",
       "      <th>Category</th>\n",
       "      <th>geometry</th>\n",
       "    </tr>\n",
       "  </thead>\n",
       "  <tbody>\n",
       "    <tr>\n",
       "      <th>0</th>\n",
       "      <td>16</td>\n",
       "      <td>41.973266</td>\n",
       "      <td>-87.657073</td>\n",
       "      <td>OPEN</td>\n",
       "      <td>1051 W ARGYLE ST, CHICAGO, IL. 60640</td>\n",
       "      <td>VIET HOA PLAZA</td>\n",
       "      <td>None</td>\n",
       "      <td>MULTIPOINT ((1168268.672 1933554.350))</td>\n",
       "    </tr>\n",
       "    <tr>\n",
       "      <th>1</th>\n",
       "      <td>18</td>\n",
       "      <td>41.696367</td>\n",
       "      <td>-87.681315</td>\n",
       "      <td>OPEN</td>\n",
       "      <td>10800 S WESTERN AVE, CHICAGO, IL. 60643-3226</td>\n",
       "      <td>COUNTY FAIR FOODS</td>\n",
       "      <td>None</td>\n",
       "      <td>MULTIPOINT ((1162302.618 1832900.224))</td>\n",
       "    </tr>\n",
       "    <tr>\n",
       "      <th>2</th>\n",
       "      <td>22</td>\n",
       "      <td>41.868634</td>\n",
       "      <td>-87.638638</td>\n",
       "      <td>OPEN</td>\n",
       "      <td>1101 S CANAL ST, CHICAGO, IL. 60607-4932</td>\n",
       "      <td>WHOLE FOODS MARKET</td>\n",
       "      <td>None</td>\n",
       "      <td>MULTIPOINT ((1173317.042 1895425.426))</td>\n",
       "    </tr>\n",
       "    <tr>\n",
       "      <th>3</th>\n",
       "      <td>23</td>\n",
       "      <td>41.877590</td>\n",
       "      <td>-87.654953</td>\n",
       "      <td>OPEN</td>\n",
       "      <td>1101 W JACKSON BLVD, CHICAGO, IL. 60607-2905</td>\n",
       "      <td>TARGET/SUPER</td>\n",
       "      <td>new</td>\n",
       "      <td>MULTIPOINT ((1168996.475 1898801.406))</td>\n",
       "    </tr>\n",
       "    <tr>\n",
       "      <th>4</th>\n",
       "      <td>27</td>\n",
       "      <td>41.737696</td>\n",
       "      <td>-87.625795</td>\n",
       "      <td>OPEN</td>\n",
       "      <td>112 W 87TH ST, CHICAGO, IL. 60620-1318</td>\n",
       "      <td>FOOD 4 LESS</td>\n",
       "      <td>None</td>\n",
       "      <td>MULTIPOINT ((1176991.989 1847262.423))</td>\n",
       "    </tr>\n",
       "  </tbody>\n",
       "</table>\n",
       "</div>"
      ],
      "text/plain": [
       "   OBJECTID     Ycoord     Xcoord Status  \\\n",
       "0        16  41.973266 -87.657073   OPEN   \n",
       "1        18  41.696367 -87.681315   OPEN   \n",
       "2        22  41.868634 -87.638638   OPEN   \n",
       "3        23  41.877590 -87.654953   OPEN   \n",
       "4        27  41.737696 -87.625795   OPEN   \n",
       "\n",
       "                                        Address               Chain Category  \\\n",
       "0          1051 W ARGYLE ST, CHICAGO, IL. 60640      VIET HOA PLAZA     None   \n",
       "1  10800 S WESTERN AVE, CHICAGO, IL. 60643-3226   COUNTY FAIR FOODS     None   \n",
       "2      1101 S CANAL ST, CHICAGO, IL. 60607-4932  WHOLE FOODS MARKET     None   \n",
       "3  1101 W JACKSON BLVD, CHICAGO, IL. 60607-2905        TARGET/SUPER      new   \n",
       "4        112 W 87TH ST, CHICAGO, IL. 60620-1318         FOOD 4 LESS     None   \n",
       "\n",
       "                                 geometry  \n",
       "0  MULTIPOINT ((1168268.672 1933554.350))  \n",
       "1  MULTIPOINT ((1162302.618 1832900.224))  \n",
       "2  MULTIPOINT ((1173317.042 1895425.426))  \n",
       "3  MULTIPOINT ((1168996.475 1898801.406))  \n",
       "4  MULTIPOINT ((1176991.989 1847262.423))  "
      ]
     },
     "execution_count": 20,
     "metadata": {},
     "output_type": "execute_result"
    }
   ],
   "source": [
    "groceries.head()"
   ]
  },
  {
   "cell_type": "code",
   "execution_count": 21,
   "id": "08e10db3-f1b2-4327-8189-4fbbfaab0828",
   "metadata": {},
   "outputs": [],
   "source": [
    "groceries_with_comminuty = groceries.sjoin(new_chicago, how = 'inner', predicate = 'intersects')"
   ]
  },
  {
   "cell_type": "code",
   "execution_count": 22,
   "id": "ffa6fda9-d251-4e9e-91b0-46bf3b8d5382",
   "metadata": {},
   "outputs": [
    {
     "data": {
      "text/html": [
       "<div>\n",
       "<style scoped>\n",
       "    .dataframe tbody tr th:only-of-type {\n",
       "        vertical-align: middle;\n",
       "    }\n",
       "\n",
       "    .dataframe tbody tr th {\n",
       "        vertical-align: top;\n",
       "    }\n",
       "\n",
       "    .dataframe thead th {\n",
       "        text-align: right;\n",
       "    }\n",
       "</style>\n",
       "<table border=\"1\" class=\"dataframe\">\n",
       "  <thead>\n",
       "    <tr style=\"text-align: right;\">\n",
       "      <th></th>\n",
       "      <th>OBJECTID</th>\n",
       "      <th>Ycoord</th>\n",
       "      <th>Xcoord</th>\n",
       "      <th>Status</th>\n",
       "      <th>Address</th>\n",
       "      <th>Chain</th>\n",
       "      <th>Category</th>\n",
       "      <th>geometry</th>\n",
       "      <th>index_right</th>\n",
       "      <th>community</th>\n",
       "    </tr>\n",
       "  </thead>\n",
       "  <tbody>\n",
       "    <tr>\n",
       "      <th>0</th>\n",
       "      <td>16</td>\n",
       "      <td>41.973266</td>\n",
       "      <td>-87.657073</td>\n",
       "      <td>OPEN</td>\n",
       "      <td>1051 W ARGYLE ST, CHICAGO, IL. 60640</td>\n",
       "      <td>VIET HOA PLAZA</td>\n",
       "      <td>None</td>\n",
       "      <td>MULTIPOINT ((1168268.672 1933554.350))</td>\n",
       "      <td>30</td>\n",
       "      <td>UPTOWN</td>\n",
       "    </tr>\n",
       "    <tr>\n",
       "      <th>1</th>\n",
       "      <td>18</td>\n",
       "      <td>41.696367</td>\n",
       "      <td>-87.681315</td>\n",
       "      <td>OPEN</td>\n",
       "      <td>10800 S WESTERN AVE, CHICAGO, IL. 60643-3226</td>\n",
       "      <td>COUNTY FAIR FOODS</td>\n",
       "      <td>None</td>\n",
       "      <td>MULTIPOINT ((1162302.618 1832900.224))</td>\n",
       "      <td>73</td>\n",
       "      <td>MORGAN PARK</td>\n",
       "    </tr>\n",
       "    <tr>\n",
       "      <th>2</th>\n",
       "      <td>22</td>\n",
       "      <td>41.868634</td>\n",
       "      <td>-87.638638</td>\n",
       "      <td>OPEN</td>\n",
       "      <td>1101 S CANAL ST, CHICAGO, IL. 60607-4932</td>\n",
       "      <td>WHOLE FOODS MARKET</td>\n",
       "      <td>None</td>\n",
       "      <td>MULTIPOINT ((1173317.042 1895425.426))</td>\n",
       "      <td>28</td>\n",
       "      <td>NEAR WEST SIDE</td>\n",
       "    </tr>\n",
       "    <tr>\n",
       "      <th>3</th>\n",
       "      <td>23</td>\n",
       "      <td>41.877590</td>\n",
       "      <td>-87.654953</td>\n",
       "      <td>OPEN</td>\n",
       "      <td>1101 W JACKSON BLVD, CHICAGO, IL. 60607-2905</td>\n",
       "      <td>TARGET/SUPER</td>\n",
       "      <td>new</td>\n",
       "      <td>MULTIPOINT ((1168996.475 1898801.406))</td>\n",
       "      <td>28</td>\n",
       "      <td>NEAR WEST SIDE</td>\n",
       "    </tr>\n",
       "    <tr>\n",
       "      <th>4</th>\n",
       "      <td>27</td>\n",
       "      <td>41.737696</td>\n",
       "      <td>-87.625795</td>\n",
       "      <td>OPEN</td>\n",
       "      <td>112 W 87TH ST, CHICAGO, IL. 60620-1318</td>\n",
       "      <td>FOOD 4 LESS</td>\n",
       "      <td>None</td>\n",
       "      <td>MULTIPOINT ((1176991.989 1847262.423))</td>\n",
       "      <td>39</td>\n",
       "      <td>CHATHAM</td>\n",
       "    </tr>\n",
       "  </tbody>\n",
       "</table>\n",
       "</div>"
      ],
      "text/plain": [
       "   OBJECTID     Ycoord     Xcoord Status  \\\n",
       "0        16  41.973266 -87.657073   OPEN   \n",
       "1        18  41.696367 -87.681315   OPEN   \n",
       "2        22  41.868634 -87.638638   OPEN   \n",
       "3        23  41.877590 -87.654953   OPEN   \n",
       "4        27  41.737696 -87.625795   OPEN   \n",
       "\n",
       "                                        Address               Chain Category  \\\n",
       "0          1051 W ARGYLE ST, CHICAGO, IL. 60640      VIET HOA PLAZA     None   \n",
       "1  10800 S WESTERN AVE, CHICAGO, IL. 60643-3226   COUNTY FAIR FOODS     None   \n",
       "2      1101 S CANAL ST, CHICAGO, IL. 60607-4932  WHOLE FOODS MARKET     None   \n",
       "3  1101 W JACKSON BLVD, CHICAGO, IL. 60607-2905        TARGET/SUPER      new   \n",
       "4        112 W 87TH ST, CHICAGO, IL. 60620-1318         FOOD 4 LESS     None   \n",
       "\n",
       "                                 geometry  index_right       community  \n",
       "0  MULTIPOINT ((1168268.672 1933554.350))           30          UPTOWN  \n",
       "1  MULTIPOINT ((1162302.618 1832900.224))           73     MORGAN PARK  \n",
       "2  MULTIPOINT ((1173317.042 1895425.426))           28  NEAR WEST SIDE  \n",
       "3  MULTIPOINT ((1168996.475 1898801.406))           28  NEAR WEST SIDE  \n",
       "4  MULTIPOINT ((1176991.989 1847262.423))           39         CHATHAM  "
      ]
     },
     "execution_count": 22,
     "metadata": {},
     "output_type": "execute_result"
    }
   ],
   "source": [
    "groceries_with_comminuty.head()"
   ]
  },
  {
   "cell_type": "markdown",
   "id": "3868ff89-8008-4c22-89ed-55ebbb81eac2",
   "metadata": {},
   "source": [
    "#"
   ]
  },
  {
   "cell_type": "markdown",
   "id": "06caa5f8-dab0-4e9a-b9cc-9408f33d4df4",
   "metadata": {},
   "source": [
    "#"
   ]
  },
  {
   "cell_type": "markdown",
   "id": "03cf3616-70d8-4a20-854d-5dac8bfd8fb1",
   "metadata": {},
   "source": [
    "#"
   ]
  },
  {
   "cell_type": "markdown",
   "id": "be5c2c90-6357-4398-ab59-1158cfa7626e",
   "metadata": {},
   "source": [
    "#"
   ]
  }
 ],
 "metadata": {
  "kernelspec": {
   "display_name": "Python 3 (ipykernel)",
   "language": "python",
   "name": "python3"
  },
  "language_info": {
   "codemirror_mode": {
    "name": "ipython",
    "version": 3
   },
   "file_extension": ".py",
   "mimetype": "text/x-python",
   "name": "python",
   "nbconvert_exporter": "python",
   "pygments_lexer": "ipython3",
   "version": "3.12.0"
  }
 },
 "nbformat": 4,
 "nbformat_minor": 5
}
