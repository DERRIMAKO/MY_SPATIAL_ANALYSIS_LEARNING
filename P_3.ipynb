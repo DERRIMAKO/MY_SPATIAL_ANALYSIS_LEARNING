{
 "cells": [
  {
   "cell_type": "markdown",
   "id": "f85f64e9-c058-4b1d-9c3d-87cea7dc8374",
   "metadata": {},
   "source": [
    "### CONVERTING COORDINATES\n",
    "#### Using python functions to convert coordinates from degrees minutes seconds to Decimal degrees"
   ]
  },
  {
   "cell_type": "markdown",
   "id": "a845b6cc-2a66-44cd-b586-acf114bc3061",
   "metadata": {},
   "source": [
    "#### The coordinates of Nairobi are: \n",
    "#### latitude: 1° 17' 11.0004'' S \n",
    "#### longitude: 36° 49' 2.0028'' E"
   ]
  },
  {
   "cell_type": "code",
   "execution_count": 1,
   "id": "05d47608-c77b-4b85-9ffb-2c816dab25d1",
   "metadata": {},
   "outputs": [],
   "source": [
    "def dms_to_decimal_degrees(degrees, minutes, seconds):\n",
    "    if degrees < 0:\n",
    "        result = degrees - minutes/60 - seconds/3600\n",
    "    else:\n",
    "        result = degrees + minutes/60 + seconds/3600\n",
    "    return result\n",
    "\n"
   ]
  },
  {
   "cell_type": "code",
   "execution_count": 8,
   "id": "e66c1201-3b11-4bc3-81ac-e3d25eff58e4",
   "metadata": {},
   "outputs": [
    {
     "name": "stdout",
     "output_type": "stream",
     "text": [
      "1.2863889999999998\n"
     ]
    }
   ],
   "source": [
    "output_latitude = dms_to_decimal_degrees(1, 17, 11.0004)\n",
    "print(output)"
   ]
  },
  {
   "cell_type": "code",
   "execution_count": 9,
   "id": "fe40479b-e514-40b4-a4d8-c43b436bb461",
   "metadata": {},
   "outputs": [
    {
     "name": "stdout",
     "output_type": "stream",
     "text": [
      "36.817223000000006\n"
     ]
    }
   ],
   "source": [
    "output_longitude = dms_to_decimal_degrees(36, 49, 2.0028)\n",
    "print(output_longitude)"
   ]
  },
  {
   "cell_type": "code",
   "execution_count": null,
   "id": "b597d5e3-bda7-4aab-930f-189d5e4318c1",
   "metadata": {},
   "outputs": [],
   "source": []
  }
 ],
 "metadata": {
  "kernelspec": {
   "display_name": "Python 3 (ipykernel)",
   "language": "python",
   "name": "python3"
  },
  "language_info": {
   "codemirror_mode": {
    "name": "ipython",
    "version": 3
   },
   "file_extension": ".py",
   "mimetype": "text/x-python",
   "name": "python",
   "nbconvert_exporter": "python",
   "pygments_lexer": "ipython3",
   "version": "3.12.2"
  }
 },
 "nbformat": 4,
 "nbformat_minor": 5
}
