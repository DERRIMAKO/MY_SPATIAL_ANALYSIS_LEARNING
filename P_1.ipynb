{
 "cells": [
  {
   "cell_type": "markdown",
   "id": "c587a5cd-715f-44a8-bb26-b09b31eb44cb",
   "metadata": {},
   "source": [
    "### Python 'for' Loop"
   ]
  },
  {
   "cell_type": "code",
   "execution_count": 10,
   "id": "70ac50c2-e9dd-497a-b1e1-384194c1b667",
   "metadata": {},
   "outputs": [],
   "source": [
    "kenyan_towns_population = {\n",
    "    \"Nairobi\": 6397073,\n",
    "    \"Mombasa\": 1208333,\n",
    "    \"Kisumu\": 500000,\n",
    "    \"Eldoret\": 475716,\n",
    "    \"Nakuru\": 4070674\n",
    "}\n"
   ]
  },
  {
   "cell_type": "code",
   "execution_count": 11,
   "id": "3c265cd7-fd9c-4a78-875f-42b59ef15804",
   "metadata": {},
   "outputs": [
    {
     "name": "stdout",
     "output_type": "stream",
     "text": [
      "Nairobi is a Mega Town\n",
      "Mombasa is a large town\n",
      "Kisumu is a small town\n",
      "Eldoret is a small town\n",
      "Nakuru is a large town\n"
     ]
    }
   ],
   "source": [
    "for town, population in kenyan_towns_population.items():\n",
    "    if population < 1000000:\n",
    "        print('{} is a small town'.format(town))\n",
    "    elif population > 1000000 and population < 5000000:\n",
    "        print('{} is a large town'.format(town))\n",
    "    else:\n",
    "        print('{} is a Mega Town'.format(town))"
   ]
  },
  {
   "cell_type": "code",
   "execution_count": null,
   "id": "42d4de09-3dcd-4bf9-bbeb-e2469c6a50fc",
   "metadata": {},
   "outputs": [],
   "source": []
  }
 ],
 "metadata": {
  "kernelspec": {
   "display_name": "Python 3 (ipykernel)",
   "language": "python",
   "name": "python3"
  },
  "language_info": {
   "codemirror_mode": {
    "name": "ipython",
    "version": 3
   },
   "file_extension": ".py",
   "mimetype": "text/x-python",
   "name": "python",
   "nbconvert_exporter": "python",
   "pygments_lexer": "ipython3",
   "version": "3.12.2"
  }
 },
 "nbformat": 4,
 "nbformat_minor": 5
}
