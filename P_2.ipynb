{
 "cells": [
  {
   "cell_type": "markdown",
   "id": "924977d8-2b34-4cc2-9395-706a93904a87",
   "metadata": {},
   "source": [
    "### PYTHON STANDARD LIBRARY"
   ]
  },
  {
   "cell_type": "code",
   "execution_count": 1,
   "id": "48df3fa7-2aad-4717-9394-ad173ab8ad83",
   "metadata": {},
   "outputs": [],
   "source": [
    "import math"
   ]
  },
  {
   "cell_type": "code",
   "execution_count": 2,
   "id": "dedf2324-7efe-44a2-8eb7-26ef22c924d3",
   "metadata": {},
   "outputs": [],
   "source": [
    "from math import pi"
   ]
  },
  {
   "cell_type": "code",
   "execution_count": 3,
   "id": "b133961c-7b49-44fb-86f3-ce5383505cf9",
   "metadata": {},
   "outputs": [
    {
     "name": "stdout",
     "output_type": "stream",
     "text": [
      "3.141592653589793\n"
     ]
    }
   ],
   "source": [
    "print(pi)"
   ]
  },
  {
   "cell_type": "markdown",
   "id": "07761c4f-e991-47a1-8ed5-1cd80606cc00",
   "metadata": {},
   "source": [
    "#### CALCULATING DISTANCE"
   ]
  },
  {
   "cell_type": "markdown",
   "id": "d89b821b-f7be-4650-97bf-f047df8270ba",
   "metadata": {},
   "source": [
    "#### We have already Installed geopy. geopy comes with functions that have already implemented many distance calculation formulae."
   ]
  },
  {
   "cell_type": "code",
   "execution_count": 1,
   "id": "814c93bd-1444-49eb-8063-439b65dcf96e",
   "metadata": {},
   "outputs": [],
   "source": [
    "import geopy"
   ]
  },
  {
   "cell_type": "code",
   "execution_count": 2,
   "id": "46abd604-566b-476d-9caf-e59078bbef71",
   "metadata": {},
   "outputs": [],
   "source": [
    "from geopy import distance"
   ]
  },
  {
   "cell_type": "code",
   "execution_count": 3,
   "id": "3e4def28-48ed-49a8-9e30-b9ce9eeb6a31",
   "metadata": {},
   "outputs": [],
   "source": [
    "san_francisco = (37.7749, -122.4194)\n",
    "new_york = (40.661, -73.944)"
   ]
  },
  {
   "cell_type": "code",
   "execution_count": 4,
   "id": "e7b603f7-1aea-457e-b5e9-598b7c94c47c",
   "metadata": {},
   "outputs": [
    {
     "name": "stdout",
     "output_type": "stream",
     "text": [
      "4135.3804590061345 km\n"
     ]
    }
   ],
   "source": [
    "straight_line_distance = distance.great_circle(san_francisco, new_york)\n",
    "print(straight_line_distance)"
   ]
  },
  {
   "cell_type": "code",
   "execution_count": 5,
   "id": "45bf0fc2-debb-4c83-8aa1-98d4e54e6bcc",
   "metadata": {},
   "outputs": [
    {
     "name": "stdout",
     "output_type": "stream",
     "text": [
      "4145.446977549561 km\n"
     ]
    }
   ],
   "source": [
    "ellipsoid_distance = distance.geodesic(san_francisco, new_york, ellipsoid = 'WGS-84')\n",
    "print(ellipsoid_distance)"
   ]
  },
  {
   "cell_type": "code",
   "execution_count": null,
   "id": "db020654-7cd4-47c1-afab-128df0d96fe8",
   "metadata": {},
   "outputs": [],
   "source": []
  }
 ],
 "metadata": {
  "kernelspec": {
   "display_name": "Python 3 (ipykernel)",
   "language": "python",
   "name": "python3"
  },
  "language_info": {
   "codemirror_mode": {
    "name": "ipython",
    "version": 3
   },
   "file_extension": ".py",
   "mimetype": "text/x-python",
   "name": "python",
   "nbconvert_exporter": "python",
   "pygments_lexer": "ipython3",
   "version": "3.12.2"
  }
 },
 "nbformat": 4,
 "nbformat_minor": 5
}
